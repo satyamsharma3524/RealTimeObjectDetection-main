{
 "cells": [
  {
   "cell_type": "code",
   "execution_count": 1,
   "id": "60aea767",
   "metadata": {},
   "outputs": [],
   "source": [
    "import cv2\n",
    "import os\n",
    "import time\n",
    "import uuid"
   ]
  },
  {
   "cell_type": "code",
   "execution_count": 2,
   "id": "9b81e37f",
   "metadata": {},
   "outputs": [],
   "source": [
    "IMAGES_PATH = '.\\Tensorflow\\workspace\\images\\collectedimages'"
   ]
  },
  {
   "cell_type": "code",
   "execution_count": 3,
   "id": "152c564b",
   "metadata": {},
   "outputs": [],
   "source": [
    "labels = ['hello', 'thanks', 'yes', 'no', 'iloveyou']\n",
    "number_imgs = 15"
   ]
  },
  {
   "cell_type": "code",
   "execution_count": 4,
   "id": "b6c4efd9",
   "metadata": {},
   "outputs": [
    {
     "name": "stdout",
     "output_type": "stream",
     "text": [
      "collecting images for hello\n",
      "collecting images for thanks\n",
      "collecting images for yes\n",
      "collecting images for no\n",
      "collecting images for iloveyou\n"
     ]
    }
   ],
   "source": [
    "for label in labels:\n",
    "    !mkdir{'.\\Tensorflow\\workspace\\images\\collectedimages\\\\'+label}\n",
    "    cap = cv2.VideoCapture(0)\n",
    "    print(\"collecting images for {}\".format(label))\n",
    "    time.sleep(5)\n",
    "    \n",
    "    for imgnum in range(number_imgs):\n",
    "        ret, frame = cap.read()\n",
    "        imagename = os.path.join(IMAGES_PATH, label, label+'.'+'{}.jpg'.format(str(uuid.uuid1())))\n",
    "        cv2.imwrite(imagename, frame)\n",
    "        cv2.imshow('frame', frame)\n",
    "        time.sleep(2)\n",
    "        \n",
    "        if cv2.waitKey(1) & 0xFF == ord('q'):\n",
    "            break\n",
    "            \n",
    "    cap.release()\n",
    "        "
   ]
  },
  {
   "cell_type": "code",
   "execution_count": null,
   "id": "d187e155",
   "metadata": {},
   "outputs": [],
   "source": []
  },
  {
   "cell_type": "code",
   "execution_count": null,
   "id": "f7976063",
   "metadata": {},
   "outputs": [],
   "source": []
  }
 ],
 "metadata": {
  "kernelspec": {
   "display_name": "Python 3 (ipykernel)",
   "language": "python",
   "name": "python3"
  },
  "language_info": {
   "codemirror_mode": {
    "name": "ipython",
    "version": 3
   },
   "file_extension": ".py",
   "mimetype": "text/x-python",
   "name": "python",
   "nbconvert_exporter": "python",
   "pygments_lexer": "ipython3",
   "version": "3.10.2"
  }
 },
 "nbformat": 4,
 "nbformat_minor": 5
}
